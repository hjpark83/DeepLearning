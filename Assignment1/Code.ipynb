{
 "cells": [
  {
   "cell_type": "markdown",
   "metadata": {
    "id": "WAq2OHFLsnAk"
   },
   "source": [
    "# Logistic Regression vs Deep NN 비교 실험\n",
    "> 컴퓨터소프트웨어학부 2021088304 박현준\n",
    "\n",
    "\n",
    "### 1. 과제 내용\n",
    "1) Logistic Regression\\\n",
    "2) Deep NN (3 hidden layers)\n",
    "\n",
    "### 2. 데이터셋\n",
    "[Chest_Xray_Pneumonia](https://www.kaggle.com/datasets/paultimothymooney/chest-xray-pneumonia)"
   ]
  },
  {
   "cell_type": "code",
   "execution_count": 20,
   "metadata": {
    "id": "NE0fbC1irx3G"
   },
   "outputs": [],
   "source": [
    "# Import libraries\n",
    "import os\n",
    "import torch\n",
    "import torch.nn as nn\n",
    "import torch.optim as optim\n",
    "import torch.nn.functional as F\n",
    "from torch.utils.data import DataLoader, random_split\n",
    "import torchvision\n",
    "from torchvision import transforms, datasets\n",
    "\n",
    "import json\n",
    "import numpy as np\n",
    "import matplotlib.pyplot as plt"
   ]
  },
  {
   "cell_type": "code",
   "execution_count": 21,
   "metadata": {
    "id": "scT2YKW0oWEQ"
   },
   "outputs": [],
   "source": [
    "root_dir = os.path.expanduser(\"C:/Users/CV/Desktop/Assignment/archive/chest_xray\")\n",
    "transform = transforms.Compose([\n",
    "    transforms.Grayscale(num_output_channels=1),\n",
    "    transforms.Resize((128,128)),\n",
    "    transforms.ToTensor()])\n",
    "input_dim = 128*128\n",
    "\n",
    "num_epochs = 10\n",
    "\n",
    "## 학습 / 테스트 데이터 split\n",
    "trainval_ds = datasets.ImageFolder(os.path.join(root_dir, 'train'), transform=transform)\n",
    "test_ds = datasets.ImageFolder(os.path.join(root_dir, 'test'), transform=transform)\n",
    "train_size = int(0.8 * len(trainval_ds))\n",
    "val_size = len(trainval_ds) - train_size\n",
    "train_ds, val_ds = random_split(trainval_ds, [train_size, val_size], generator=torch.Generator().manual_seed(42))\n",
    "\n",
    "# DataLoader 구성\n",
    "train_loader = DataLoader(train_ds, batch_size=32, shuffle=True)\n",
    "val_loader = DataLoader(val_ds, batch_size=32)\n",
    "test_loader = DataLoader(test_ds, batch_size=32)"
   ]
  },
  {
   "cell_type": "markdown",
   "metadata": {
    "id": "VcuUPJ3nuBBW"
   },
   "source": [
    "## Logistic Regression"
   ]
  },
  {
   "cell_type": "code",
   "execution_count": 22,
   "metadata": {
    "id": "Pb18_rC5uErE"
   },
   "outputs": [],
   "source": [
    "class LogisticModel(nn.Module):\n",
    "    def __init__(self, input_dim):\n",
    "        super(LogisticModel, self).__init__()\n",
    "        self.linear = nn.Linear(input_dim, 1)\n",
    "\n",
    "    def forward(self, x):\n",
    "        x = self.linear(x)\n",
    "        return torch.sigmoid(x)\n",
    "\n",
    "    def train_model(self, loader, optimizer, criterion, device):\n",
    "        self.train()\n",
    "        total_loss = 0\n",
    "        correct = 0\n",
    "        total = 0\n",
    "\n",
    "        for images, labels in loader:\n",
    "            images = images.to(device)\n",
    "            labels = labels.to(device).float().unsqueeze(1)\n",
    "\n",
    "            optimizer.zero_grad()\n",
    "            outputs = self(images.view(images.size(0), -1))\n",
    "            loss = criterion(outputs, labels)\n",
    "            loss.backward()\n",
    "            optimizer.step()\n",
    "\n",
    "            total_loss += loss.item()\n",
    "\n",
    "            preds = (outputs > 0.5).float()\n",
    "            correct += (preds == labels).sum().item()\n",
    "            total += labels.size(0)\n",
    "\n",
    "        avg_loss = total_loss / len(loader)\n",
    "        accuracy = correct / total\n",
    "        return avg_loss, accuracy\n",
    "\n",
    "    def evaluate_model(self, loader, criterion, device):\n",
    "        self.eval()\n",
    "        total_loss = 0\n",
    "        correct = 0\n",
    "        total = 0\n",
    "\n",
    "        with torch.no_grad():\n",
    "            for images, labels in loader:\n",
    "                images = images.to(device)\n",
    "                labels = labels.to(device).float().unsqueeze(1)\n",
    "\n",
    "                outputs = self(images.view(images.size(0), -1))\n",
    "                loss = criterion(outputs, labels)\n",
    "                total_loss += loss.item()\n",
    "\n",
    "                preds = (outputs > 0.5).float()\n",
    "                correct += (preds == labels).sum().item()\n",
    "                total += labels.size(0)\n",
    "\n",
    "        avg_loss = total_loss / len(loader)\n",
    "        accuracy = correct / total\n",
    "        return avg_loss, accuracy\n"
   ]
  },
  {
   "cell_type": "code",
   "execution_count": null,
   "metadata": {
    "colab": {
     "base_uri": "https://localhost:8080/"
    },
    "executionInfo": {
     "elapsed": 2611595,
     "status": "ok",
     "timestamp": 1744099526581,
     "user": {
      "displayName": "박현준",
      "userId": "03866578572824015124"
     },
     "user_tz": -540
    },
    "id": "b_ew9IdHwbhk",
    "outputId": "bc0a5d9a-6a09-4b24-d939-590daa4a79f6"
   },
   "outputs": [
    {
     "name": "stdout",
     "output_type": "stream",
     "text": [
      "[Epoch 1] Train Loss: 24.2885 | Train Acc: 0.7368 | Val Loss: 26.8561 | Val Acc: 0.7289\n",
      "[Epoch 2] Train Loss: 24.7257 | Train Acc: 0.7426 | Val Loss: 26.8561 | Val Acc: 0.7289\n"
     ]
    }
   ],
   "source": [
    "device = torch.device(\"cuda\" if torch.cuda.is_available() else \"cpu\")\n",
    "\n",
    "model = LogisticModel(input_dim).to(device)\n",
    "criterion = nn.BCELoss()\n",
    "optimizer = torch.optim.SGD(model.parameters(), lr=0.01)\n",
    "\n",
    "logistic_results = {\n",
    "    'model': 'logistic',\n",
    "    'train_acc': [],\n",
    "    'val_acc': [],\n",
    "    'test_acc': None \n",
    "}\n",
    "\n",
    "for epoch in range(num_epochs):\n",
    "    train_loss, train_acc = model.train_model(train_loader, optimizer, criterion, device)\n",
    "    val_loss, val_acc = model.evaluate_model(val_loader, criterion, device)\n",
    "\n",
    "    logistic_results['train_acc'].append(train_acc)\n",
    "    logistic_results['val_acc'].append(val_acc)\n",
    "\n",
    "    print(f\"[Epoch {epoch+1}] \"\n",
    "          f\"Train Loss: {train_loss:.4f} | Train Acc: {train_acc:.4f} | \"\n",
    "          f\"Val Loss: {val_loss:.4f} | Val Acc: {val_acc:.4f}\")\n",
    "\n",
    "test_loss, test_acc = model.evaluate_model(test_loader, criterion, device)\n",
    "logistic_results['test_acc'] = test_acc\n",
    "print(f\"\\n[Test Accuracy] {test_acc:.4f}\")\n",
    "\n",
    "with open(f\"logistic_results_{num_epochs}.json\", \"w\") as f:\n",
    "    json.dump(logistic_results, f, indent=4)"
   ]
  },
  {
   "cell_type": "markdown",
   "metadata": {
    "id": "T1HyGg56uF6H"
   },
   "source": [
    "## Deep Neural Network"
   ]
  },
  {
   "cell_type": "code",
   "execution_count": null,
   "metadata": {
    "id": "MLv825JWrh6E"
   },
   "outputs": [],
   "source": [
    "class DeepNN(nn.Module):\n",
    "    def __init__(self, input_dim):\n",
    "        super(DeepNN, self).__init__()\n",
    "        self.model = nn.Sequential(\n",
    "            nn.Linear(input_dim, 256),\n",
    "            nn.ReLU(),\n",
    "            nn.Linear(256, 128),\n",
    "            nn.ReLU(),\n",
    "            nn.Linear(128, 64),\n",
    "            nn.ReLU(),\n",
    "            nn.Linear(64, 1),\n",
    "            nn.Sigmoid()\n",
    "        )\n",
    "\n",
    "    def forward(self, x):\n",
    "        return self.model(x)\n",
    "\n",
    "    def train_model(self, loader, optimizer, criterion, device):\n",
    "        self.train()\n",
    "        total_loss = 0\n",
    "        correct = 0\n",
    "        total = 0\n",
    "\n",
    "        for images, labels in loader:\n",
    "            images = images.to(device)\n",
    "            labels = labels.to(device).float().unsqueeze(1) \n",
    "\n",
    "            optimizer.zero_grad()\n",
    "            outputs = self(images.view(images.size(0), -1))\n",
    "            loss = criterion(outputs, labels)\n",
    "            loss.backward()\n",
    "            optimizer.step()\n",
    "\n",
    "            total_loss += loss.item()\n",
    "\n",
    "            preds = (outputs > 0.5).float()\n",
    "            correct += (preds == labels).sum().item()\n",
    "            total += labels.size(0)\n",
    "\n",
    "        avg_loss = total_loss / len(loader)\n",
    "        accuracy = correct / total\n",
    "        return avg_loss, accuracy\n",
    "\n",
    "    def evaluate_model(self, loader, criterion, device):\n",
    "        self.eval()\n",
    "        total_loss = 0\n",
    "        correct = 0\n",
    "        total = 0\n",
    "\n",
    "        with torch.no_grad():\n",
    "            for images, labels in loader:\n",
    "                images = images.to(device)\n",
    "                labels = labels.to(device).float().unsqueeze(1)\n",
    "\n",
    "                outputs = self(images.view(images.size(0), -1))\n",
    "                loss = criterion(outputs, labels)\n",
    "                total_loss += loss.item()\n",
    "\n",
    "                preds = (outputs > 0.5).float()\n",
    "                correct += (preds == labels).sum().item()\n",
    "                total += labels.size(0)\n",
    "\n",
    "        avg_loss = total_loss / len(loader)\n",
    "        accuracy = correct / total\n",
    "        return avg_loss, accuracy\n"
   ]
  },
  {
   "cell_type": "code",
   "execution_count": null,
   "metadata": {
    "colab": {
     "base_uri": "https://localhost:8080/",
     "height": 377
    },
    "executionInfo": {
     "elapsed": 616,
     "status": "error",
     "timestamp": 1744100475181,
     "user": {
      "displayName": "박현준",
      "userId": "03866578572824015124"
     },
     "user_tz": -540
    },
    "id": "KTCUcm5Rewa8",
    "outputId": "80e76ac2-3ef5-44ab-ac69-f4114889aafa"
   },
   "outputs": [
    {
     "name": "stdout",
     "output_type": "stream",
     "text": [
      "[Epoch 1] Train Loss: 0.3409 | Train Acc: 0.8531 | Val Loss: 0.1650 | Val Acc: 0.9291\n",
      "[Epoch 2] Train Loss: 0.1985 | Train Acc: 0.9204 | Val Loss: 0.1610 | Val Acc: 0.9406\n",
      "\n",
      "[Test Accuracy] 0.7532\n"
     ]
    }
   ],
   "source": [
    "device = torch.device(\"cuda\" if torch.cuda.is_available() else \"cpu\")\n",
    "\n",
    "model = DeepNN(input_dim).to(device)\n",
    "criterion = nn.BCELoss() \n",
    "optimizer = torch.optim.Adam(model.parameters(), lr=0.001)\n",
    "\n",
    "deep_results = {\n",
    "    'model': 'Deep',\n",
    "    'train_acc': [],\n",
    "    'val_acc': [],\n",
    "    'test_acc': None\n",
    "}\n",
    "\n",
    "for epoch in range(num_epochs):\n",
    "    train_loss, train_acc = model.train_model(train_loader, optimizer, criterion, device)\n",
    "    val_loss, val_acc = model.evaluate_model(val_loader, criterion, device)\n",
    "\n",
    "    deep_results['train_acc'].append(train_acc)\n",
    "    deep_results['val_acc'].append(val_acc)\n",
    "\n",
    "    print(f\"[Epoch {epoch+1}] \"\n",
    "          f\"Train Loss: {train_loss:.4f} | Train Acc: {train_acc:.4f} | \"\n",
    "          f\"Val Loss: {val_loss:.4f} | Val Acc: {val_acc:.4f}\")\n",
    "\n",
    "test_loss, test_acc = model.evaluate_model(test_loader, criterion, device)\n",
    "deep_results['test_acc'] = test_acc\n",
    "print(f\"\\n[Test Accuracy] {test_acc:.4f}\")\n",
    "\n",
    "with open(f\"deep_results_{num_epochs}.json\", \"w\") as f:\n",
    "    json.dump(deep_results, f, indent=4)"
   ]
  },
  {
   "cell_type": "markdown",
   "metadata": {
    "id": "CTvfsTpQsKPZ"
   },
   "source": [
    "# **Logistic Regression vs Deep NN 비교 실험 시각화**\n",
    "> train/val/test accuracy comparison by bar plot"
   ]
  },
  {
   "cell_type": "code",
   "execution_count": null,
   "metadata": {
    "id": "0pBEpgGEsJd-"
   },
   "outputs": [
    {
     "ename": "FileNotFoundError",
     "evalue": "[Errno 2] No such file or directory: 'logistic_results_10.json'",
     "output_type": "error",
     "traceback": [
      "\u001b[1;31m---------------------------------------------------------------------------\u001b[0m",
      "\u001b[1;31mFileNotFoundError\u001b[0m                         Traceback (most recent call last)",
      "Cell \u001b[1;32mIn[19], line 1\u001b[0m\n\u001b[1;32m----> 1\u001b[0m \u001b[38;5;28;01mwith\u001b[39;00m \u001b[38;5;28;43mopen\u001b[39;49m\u001b[43m(\u001b[49m\u001b[38;5;124;43mf\u001b[39;49m\u001b[38;5;124;43m\"\u001b[39;49m\u001b[38;5;124;43mlogistic_results_\u001b[39;49m\u001b[38;5;132;43;01m{\u001b[39;49;00m\u001b[43mnum_epochs\u001b[49m\u001b[38;5;132;43;01m}\u001b[39;49;00m\u001b[38;5;124;43m.json\u001b[39;49m\u001b[38;5;124;43m\"\u001b[39;49m\u001b[43m,\u001b[49m\u001b[43m \u001b[49m\u001b[38;5;124;43m\"\u001b[39;49m\u001b[38;5;124;43mr\u001b[39;49m\u001b[38;5;124;43m\"\u001b[39;49m\u001b[43m)\u001b[49m \u001b[38;5;28;01mas\u001b[39;00m f:\n\u001b[0;32m      2\u001b[0m     logistic_results \u001b[38;5;241m=\u001b[39m json\u001b[38;5;241m.\u001b[39mload(f)\n\u001b[0;32m      4\u001b[0m \u001b[38;5;28;01mwith\u001b[39;00m \u001b[38;5;28mopen\u001b[39m(\u001b[38;5;124mf\u001b[39m\u001b[38;5;124m\"\u001b[39m\u001b[38;5;124mdeep_results_\u001b[39m\u001b[38;5;132;01m{\u001b[39;00mnum_epochs\u001b[38;5;132;01m}\u001b[39;00m\u001b[38;5;124m.json\u001b[39m\u001b[38;5;124m\"\u001b[39m, \u001b[38;5;124m\"\u001b[39m\u001b[38;5;124mr\u001b[39m\u001b[38;5;124m\"\u001b[39m) \u001b[38;5;28;01mas\u001b[39;00m f:\n",
      "File \u001b[1;32mc:\\Users\\CV\\anaconda3\\envs\\DL\\lib\\site-packages\\IPython\\core\\interactiveshell.py:324\u001b[0m, in \u001b[0;36m_modified_open\u001b[1;34m(file, *args, **kwargs)\u001b[0m\n\u001b[0;32m    317\u001b[0m \u001b[38;5;28;01mif\u001b[39;00m file \u001b[38;5;129;01min\u001b[39;00m {\u001b[38;5;241m0\u001b[39m, \u001b[38;5;241m1\u001b[39m, \u001b[38;5;241m2\u001b[39m}:\n\u001b[0;32m    318\u001b[0m     \u001b[38;5;28;01mraise\u001b[39;00m \u001b[38;5;167;01mValueError\u001b[39;00m(\n\u001b[0;32m    319\u001b[0m         \u001b[38;5;124mf\u001b[39m\u001b[38;5;124m\"\u001b[39m\u001b[38;5;124mIPython won\u001b[39m\u001b[38;5;124m'\u001b[39m\u001b[38;5;124mt let you open fd=\u001b[39m\u001b[38;5;132;01m{\u001b[39;00mfile\u001b[38;5;132;01m}\u001b[39;00m\u001b[38;5;124m by default \u001b[39m\u001b[38;5;124m\"\u001b[39m\n\u001b[0;32m    320\u001b[0m         \u001b[38;5;124m\"\u001b[39m\u001b[38;5;124mas it is likely to crash IPython. If you know what you are doing, \u001b[39m\u001b[38;5;124m\"\u001b[39m\n\u001b[0;32m    321\u001b[0m         \u001b[38;5;124m\"\u001b[39m\u001b[38;5;124myou can use builtins\u001b[39m\u001b[38;5;124m'\u001b[39m\u001b[38;5;124m open.\u001b[39m\u001b[38;5;124m\"\u001b[39m\n\u001b[0;32m    322\u001b[0m     )\n\u001b[1;32m--> 324\u001b[0m \u001b[38;5;28;01mreturn\u001b[39;00m io_open(file, \u001b[38;5;241m*\u001b[39margs, \u001b[38;5;241m*\u001b[39m\u001b[38;5;241m*\u001b[39mkwargs)\n",
      "\u001b[1;31mFileNotFoundError\u001b[0m: [Errno 2] No such file or directory: 'logistic_results_10.json'"
     ]
    }
   ],
   "source": [
    "with open(f\"logistic_results_{num_epochs}.json\", \"r\") as f:\n",
    "    logistic_results = json.load(f)\n",
    "\n",
    "with open(f\"deep_results_{num_epochs}.json\", \"r\") as f:\n",
    "    deep_results = json.load(f)\n",
    "\n",
    "models = [logistic_results['model'], deep_results['model']]\n",
    "\n",
    "train_acc = [logistic_results['train_acc'][-1], deep_results['train_acc'][-1]]\n",
    "val_acc = [logistic_results['val_acc'][-1], deep_results['val_acc'][-1]]\n",
    "test_acc = [logistic_results['test_acc'], deep_results['test_acc']]\n",
    "\n",
    "x = np.arange(len(models))\n",
    "width = 0.25\n",
    "\n",
    "plt.figure(figsize=(8, 6))\n",
    "plt.bar(x - width, train_acc, width, label='Train Accuracy')\n",
    "plt.bar(x, val_acc, width, label='Validation Accuracy')\n",
    "plt.bar(x + width, test_acc, width, label='Test Accuracy')\n",
    "\n",
    "plt.xticks(x, models)\n",
    "plt.ylim(0.5, 1.0)\n",
    "plt.ylabel(\"Accuracy\")\n",
    "plt.title(\"Chest X-ray Binary Classification Results\")\n",
    "plt.legend()\n",
    "plt.grid(axis='y', linestyle='--', alpha=0.7)\n",
    "plt.tight_layout()\n",
    "\n",
    "plt.savefig(f\"classification_results_comparison_iter_{num_epochs}.png\", dpi=300)\n",
    "plt.show()"
   ]
  }
 ],
 "metadata": {
  "accelerator": "GPU",
  "colab": {
   "authorship_tag": "ABX9TyPm5icW4Y3ENM4tjtu4Gvzu",
   "gpuType": "T4",
   "mount_file_id": "1O2EIZf-G6mV60_7BKMcjjpS7Px3DmQKH",
   "provenance": []
  },
  "kernelspec": {
   "display_name": "DL",
   "language": "python",
   "name": "python3"
  },
  "language_info": {
   "codemirror_mode": {
    "name": "ipython",
    "version": 3
   },
   "file_extension": ".py",
   "mimetype": "text/x-python",
   "name": "python",
   "nbconvert_exporter": "python",
   "pygments_lexer": "ipython3",
   "version": "3.10.16"
  }
 },
 "nbformat": 4,
 "nbformat_minor": 0
}
